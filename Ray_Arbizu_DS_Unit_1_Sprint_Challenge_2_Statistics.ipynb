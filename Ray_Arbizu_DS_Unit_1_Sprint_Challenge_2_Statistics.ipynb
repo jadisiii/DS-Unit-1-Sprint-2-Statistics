{
  "nbformat": 4,
  "nbformat_minor": 0,
  "metadata": {
    "colab": {
      "name": "Ray_Arbizu_DS_Unit_1_Sprint_Challenge_2_Statistics.ipynb",
      "provenance": [],
      "collapsed_sections": [],
      "include_colab_link": true
    },
    "kernelspec": {
      "name": "python3",
      "display_name": "Python 3"
    }
  },
  "cells": [
    {
      "cell_type": "markdown",
      "metadata": {
        "id": "view-in-github",
        "colab_type": "text"
      },
      "source": [
        "<a href=\"https://colab.research.google.com/github/jadisiii/DS-Unit-1-Sprint-2-Statistics/blob/master/Ray_Arbizu_DS_Unit_1_Sprint_Challenge_2_Statistics.ipynb\" target=\"_parent\"><img src=\"https://colab.research.google.com/assets/colab-badge.svg\" alt=\"Open In Colab\"/></a>"
      ]
    },
    {
      "cell_type": "markdown",
      "metadata": {
        "id": "NooAiTdnafkz",
        "colab_type": "text"
      },
      "source": [
        "# Data Science Unit 1 Sprint Challenge 2\n",
        "\n",
        "## Exploring Data, Testing Hypotheses\n",
        "\n",
        "In this sprint challenge you will look at a dataset of Echocardiograms\n",
        "\n",
        "<https://archive.ics.uci.edu/ml/datasets/Echocardiogram>\n",
        "\n",
        "Attribute Information:\n",
        "\n",
        "1. survival -- the number of months patient survived (has survived, if patient is still alive). Because all the patients had their heart attacks at different times, it is possible that some patients have survived less than one year but they are still alive. Check the second variable to confirm this. Such patients cannot be used for the prediction task mentioned above.\n",
        "2. still-alive -- a binary variable. 0=dead at end of survival period, 1 means still alive\n",
        "3. age-at-heart-attack -- age in years when heart attack occurred\n",
        "4. pericardial-effusion -- binary. Pericardial effusion is fluid around the heart. 0=no fluid, 1=fluid\n",
        "5. fractional-shortening -- a measure of contracility around the heart lower numbers are increasingly abnormal\n",
        "6. epss -- E-point septal separation, another measure of contractility. Larger numbers are increasingly abnormal.\n",
        "7. lvdd -- left ventricular end-diastolic dimension. This is a measure of the size of the heart at end-diastole. Large hearts tend to be sick hearts.\n",
        "8. wall-motion-score -- a measure of how the segments of the left ventricle are moving\n",
        "9. wall-motion-index -- equals wall-motion-score divided by number of segments seen. Usually 12-13 segments are seen in an echocardiogram. Use this variable INSTEAD of the wall motion score.\n",
        "10. mult -- a derivate var which can be ignored\n",
        "11. name -- the name of the patient (I have replaced them with \"name\")\n",
        "12. group -- meaningless, ignore it\n",
        "13. alive-at-1 -- Boolean-valued. Derived from the first two attributes. 0 means patient was either dead after 1 year or had been followed for less than 1 year. 1 means patient was alive at 1 year.\n",
        "\n",
        "Sprint challenges are evaluated based on satisfactory completion of each part. It is suggested you work through it in order, getting each aspect reasonably working, before trying to deeply explore, iterate, or refine any given step. Once you get to the end, if you want to go back and improve things, go for it!"
      ]
    },
    {
      "cell_type": "markdown",
      "metadata": {
        "id": "5wch6ksCbJtZ",
        "colab_type": "text"
      },
      "source": [
        "## Part 1 - Load and validate the data\n",
        "\n",
        "- Load the data as a `pandas` data frame.\n",
        "- Validate that it has the appropriate number of observations (you can check the raw file, and also read the dataset description from UCI).\n",
        "- UCI says there should be missing data - check, and if necessary change the data so pandas recognizes it as na\n",
        "- Make sure that the loaded features are of the types described above (continuous values should be treated as float), and correct as necessary\n",
        "\n",
        "This is review, but skills that you'll use at the start of any data exploration. Further, you may have to do some investigation to figure out which file to load from - that is part of the puzzle."
      ]
    },
    {
      "cell_type": "code",
      "metadata": {
        "id": "Q79xDLckzibS",
        "colab_type": "code",
        "colab": {}
      },
      "source": [
        "import pandas as pd\n",
        "import numpy as np\n",
        "import matplotlib.pyplot as plt\n",
        "import scipy.stats as stats "
      ],
      "execution_count": 49,
      "outputs": []
    },
    {
      "cell_type": "code",
      "metadata": {
        "id": "oKMRx7M92Lzg",
        "colab_type": "code",
        "colab": {
          "base_uri": "https://localhost:8080/",
          "height": 221
        },
        "outputId": "dfc26e37-027d-4aad-88da-1ad047d23155"
      },
      "source": [
        "url = 'https://archive.ics.uci.edu/ml/machine-learning-databases/echocardiogram/echocardiogram.data'\n",
        "\n",
        "ekg_cols = ['survival', 'still-alive', 'age_at_heart_attack', 'pericardal+effusion', 'fractional_shortening', 'epss', 'lvdd', 'wall_motion_score', 'wall_motion_index', 'mult', 'name', 'group', 'alive_at_1']\n",
        "\n",
        "df_ekg = pd.read_csv(url, header=0, names=ekg_cols,  error_bad_lines=False, na_values='?')\n",
        "df_ekg.head()"
      ],
      "execution_count": 50,
      "outputs": [
        {
          "output_type": "stream",
          "text": [
            "b'Skipping line 50: expected 13 fields, saw 14\\n'\n"
          ],
          "name": "stderr"
        },
        {
          "output_type": "execute_result",
          "data": {
            "text/html": [
              "<div>\n",
              "<style scoped>\n",
              "    .dataframe tbody tr th:only-of-type {\n",
              "        vertical-align: middle;\n",
              "    }\n",
              "\n",
              "    .dataframe tbody tr th {\n",
              "        vertical-align: top;\n",
              "    }\n",
              "\n",
              "    .dataframe thead th {\n",
              "        text-align: right;\n",
              "    }\n",
              "</style>\n",
              "<table border=\"1\" class=\"dataframe\">\n",
              "  <thead>\n",
              "    <tr style=\"text-align: right;\">\n",
              "      <th></th>\n",
              "      <th>survival</th>\n",
              "      <th>still-alive</th>\n",
              "      <th>age_at_heart_attack</th>\n",
              "      <th>pericardal+effusion</th>\n",
              "      <th>fractional_shortening</th>\n",
              "      <th>epss</th>\n",
              "      <th>lvdd</th>\n",
              "      <th>wall_motion_score</th>\n",
              "      <th>wall_motion_index</th>\n",
              "      <th>mult</th>\n",
              "      <th>name</th>\n",
              "      <th>group</th>\n",
              "      <th>alive_at_1</th>\n",
              "    </tr>\n",
              "  </thead>\n",
              "  <tbody>\n",
              "    <tr>\n",
              "      <th>0</th>\n",
              "      <td>19.0</td>\n",
              "      <td>0</td>\n",
              "      <td>72.0</td>\n",
              "      <td>0</td>\n",
              "      <td>0.380</td>\n",
              "      <td>6.000</td>\n",
              "      <td>4.100</td>\n",
              "      <td>14.0</td>\n",
              "      <td>1.70</td>\n",
              "      <td>0.588</td>\n",
              "      <td>name</td>\n",
              "      <td>1.0</td>\n",
              "      <td>0.0</td>\n",
              "    </tr>\n",
              "    <tr>\n",
              "      <th>1</th>\n",
              "      <td>16.0</td>\n",
              "      <td>0</td>\n",
              "      <td>55.0</td>\n",
              "      <td>0</td>\n",
              "      <td>0.260</td>\n",
              "      <td>4.000</td>\n",
              "      <td>3.420</td>\n",
              "      <td>14.0</td>\n",
              "      <td>1.00</td>\n",
              "      <td>1.000</td>\n",
              "      <td>name</td>\n",
              "      <td>1.0</td>\n",
              "      <td>0.0</td>\n",
              "    </tr>\n",
              "    <tr>\n",
              "      <th>2</th>\n",
              "      <td>57.0</td>\n",
              "      <td>0</td>\n",
              "      <td>60.0</td>\n",
              "      <td>0</td>\n",
              "      <td>0.253</td>\n",
              "      <td>12.062</td>\n",
              "      <td>4.603</td>\n",
              "      <td>16.0</td>\n",
              "      <td>1.45</td>\n",
              "      <td>0.788</td>\n",
              "      <td>name</td>\n",
              "      <td>1.0</td>\n",
              "      <td>0.0</td>\n",
              "    </tr>\n",
              "    <tr>\n",
              "      <th>3</th>\n",
              "      <td>19.0</td>\n",
              "      <td>1</td>\n",
              "      <td>57.0</td>\n",
              "      <td>0</td>\n",
              "      <td>0.160</td>\n",
              "      <td>22.000</td>\n",
              "      <td>5.750</td>\n",
              "      <td>18.0</td>\n",
              "      <td>2.25</td>\n",
              "      <td>0.571</td>\n",
              "      <td>name</td>\n",
              "      <td>1.0</td>\n",
              "      <td>0.0</td>\n",
              "    </tr>\n",
              "    <tr>\n",
              "      <th>4</th>\n",
              "      <td>26.0</td>\n",
              "      <td>0</td>\n",
              "      <td>68.0</td>\n",
              "      <td>0</td>\n",
              "      <td>0.260</td>\n",
              "      <td>5.000</td>\n",
              "      <td>4.310</td>\n",
              "      <td>12.0</td>\n",
              "      <td>1.00</td>\n",
              "      <td>0.857</td>\n",
              "      <td>name</td>\n",
              "      <td>1.0</td>\n",
              "      <td>0.0</td>\n",
              "    </tr>\n",
              "  </tbody>\n",
              "</table>\n",
              "</div>"
            ],
            "text/plain": [
              "   survival  still-alive  age_at_heart_attack  ...  name  group  alive_at_1\n",
              "0      19.0            0                 72.0  ...  name    1.0         0.0\n",
              "1      16.0            0                 55.0  ...  name    1.0         0.0\n",
              "2      57.0            0                 60.0  ...  name    1.0         0.0\n",
              "3      19.0            1                 57.0  ...  name    1.0         0.0\n",
              "4      26.0            0                 68.0  ...  name    1.0         0.0\n",
              "\n",
              "[5 rows x 13 columns]"
            ]
          },
          "metadata": {
            "tags": []
          },
          "execution_count": 50
        }
      ]
    },
    {
      "cell_type": "code",
      "metadata": {
        "id": "kWqeiHYg2L8e",
        "colab_type": "code",
        "colab": {}
      },
      "source": [
        "df_ekg.replace(\"?\", np.NaN, inplace=True)"
      ],
      "execution_count": 51,
      "outputs": []
    },
    {
      "cell_type": "code",
      "metadata": {
        "id": "MA6hdmzQ2L2n",
        "colab_type": "code",
        "colab": {
          "base_uri": "https://localhost:8080/",
          "height": 255
        },
        "outputId": "80de3a16-0d6f-4e45-bab6-d8e264cb7484"
      },
      "source": [
        "df_ekg.isnull().sum()"
      ],
      "execution_count": 52,
      "outputs": [
        {
          "output_type": "execute_result",
          "data": {
            "text/plain": [
              "survival                  1\n",
              "still-alive               0\n",
              "age_at_heart_attack       5\n",
              "pericardal+effusion       0\n",
              "fractional_shortening     7\n",
              "epss                     14\n",
              "lvdd                     10\n",
              "wall_motion_score         3\n",
              "wall_motion_index         1\n",
              "mult                      3\n",
              "name                      0\n",
              "group                    22\n",
              "alive_at_1               57\n",
              "dtype: int64"
            ]
          },
          "metadata": {
            "tags": []
          },
          "execution_count": 52
        }
      ]
    },
    {
      "cell_type": "code",
      "metadata": {
        "id": "aepAFP1O2LxQ",
        "colab_type": "code",
        "colab": {
          "base_uri": "https://localhost:8080/",
          "height": 255
        },
        "outputId": "db2e3ae9-e800-438f-e0ae-f219583ae45b"
      },
      "source": [
        "df_ekg = df_ekg.dropna()\n",
        "df_ekg.isnull().sum()"
      ],
      "execution_count": 53,
      "outputs": [
        {
          "output_type": "execute_result",
          "data": {
            "text/plain": [
              "survival                 0\n",
              "still-alive              0\n",
              "age_at_heart_attack      0\n",
              "pericardal+effusion      0\n",
              "fractional_shortening    0\n",
              "epss                     0\n",
              "lvdd                     0\n",
              "wall_motion_score        0\n",
              "wall_motion_index        0\n",
              "mult                     0\n",
              "name                     0\n",
              "group                    0\n",
              "alive_at_1               0\n",
              "dtype: int64"
            ]
          },
          "metadata": {
            "tags": []
          },
          "execution_count": 53
        }
      ]
    },
    {
      "cell_type": "code",
      "metadata": {
        "id": "n20szTMlFW0i",
        "colab_type": "code",
        "colab": {
          "base_uri": "https://localhost:8080/",
          "height": 255
        },
        "outputId": "d1001af2-0536-4b74-dbeb-395001bcd2df"
      },
      "source": [
        "df_ekg.dtypes"
      ],
      "execution_count": 54,
      "outputs": [
        {
          "output_type": "execute_result",
          "data": {
            "text/plain": [
              "survival                 float64\n",
              "still-alive                int64\n",
              "age_at_heart_attack      float64\n",
              "pericardal+effusion        int64\n",
              "fractional_shortening    float64\n",
              "epss                     float64\n",
              "lvdd                     float64\n",
              "wall_motion_score        float64\n",
              "wall_motion_index        float64\n",
              "mult                     float64\n",
              "name                      object\n",
              "group                    float64\n",
              "alive_at_1               float64\n",
              "dtype: object"
            ]
          },
          "metadata": {
            "tags": []
          },
          "execution_count": 54
        }
      ]
    },
    {
      "cell_type": "code",
      "metadata": {
        "id": "LY1HYwtZFXJ1",
        "colab_type": "code",
        "colab": {}
      },
      "source": [
        "df_ekg['survival'] = df_ekg['survival'].astype(float)\n",
        "df_ekg['age_at_heart_attack'] = df_ekg['age_at_heart_attack'].astype(float)\n",
        "df_ekg['fractional_shortening'] = df_ekg['fractional_shortening'].astype(float)\n",
        "df_ekg['epss'] = df_ekg['epss'].astype(float)"
      ],
      "execution_count": 55,
      "outputs": []
    },
    {
      "cell_type": "code",
      "metadata": {
        "id": "qBeNOHinL5xx",
        "colab_type": "code",
        "colab": {}
      },
      "source": [
        "ekg_float = ['fractional_shortening', 'epss', 'lvdd', 'wall_motion_index', 'mult', 'pericardal+effusion', 'wall_motion_score']\n",
        "ekg_int = ['survival', 'still-alive', 'age_at_heart_attack', 'alive_at_1']"
      ],
      "execution_count": 56,
      "outputs": []
    },
    {
      "cell_type": "code",
      "metadata": {
        "id": "ra71BwTRL5wr",
        "colab_type": "code",
        "colab": {}
      },
      "source": [
        "for x in ekg_float:\n",
        "  df_ekg[x] = df_ekg[x].astype(float)"
      ],
      "execution_count": 57,
      "outputs": []
    },
    {
      "cell_type": "code",
      "metadata": {
        "id": "TcSnMC5aNsX0",
        "colab_type": "code",
        "colab": {}
      },
      "source": [
        "for x in ekg_int:\n",
        "  df_ekg[x] = df_ekg[x].astype(int)"
      ],
      "execution_count": 58,
      "outputs": []
    },
    {
      "cell_type": "code",
      "metadata": {
        "id": "ygnVD4KsFW5h",
        "colab_type": "code",
        "colab": {
          "base_uri": "https://localhost:8080/",
          "height": 255
        },
        "outputId": "3a348c59-d0c1-45ee-a14b-8b3150691329"
      },
      "source": [
        "df_ekg.dtypes"
      ],
      "execution_count": 59,
      "outputs": [
        {
          "output_type": "execute_result",
          "data": {
            "text/plain": [
              "survival                   int64\n",
              "still-alive                int64\n",
              "age_at_heart_attack        int64\n",
              "pericardal+effusion      float64\n",
              "fractional_shortening    float64\n",
              "epss                     float64\n",
              "lvdd                     float64\n",
              "wall_motion_score        float64\n",
              "wall_motion_index        float64\n",
              "mult                     float64\n",
              "name                      object\n",
              "group                    float64\n",
              "alive_at_1                 int64\n",
              "dtype: object"
            ]
          },
          "metadata": {
            "tags": []
          },
          "execution_count": 59
        }
      ]
    },
    {
      "cell_type": "code",
      "metadata": {
        "id": "8wTyoWnIFWw_",
        "colab_type": "code",
        "colab": {}
      },
      "source": [
        "#del df_ekg['name']\n",
        "del df_ekg['group']"
      ],
      "execution_count": 60,
      "outputs": []
    },
    {
      "cell_type": "code",
      "metadata": {
        "id": "s7QUpmfBPAm7",
        "colab_type": "code",
        "colab": {
          "base_uri": "https://localhost:8080/",
          "height": 297
        },
        "outputId": "d891c304-80a1-466c-cbed-633f773115aa"
      },
      "source": [
        "df_ekg.describe()"
      ],
      "execution_count": 61,
      "outputs": [
        {
          "output_type": "execute_result",
          "data": {
            "text/html": [
              "<div>\n",
              "<style scoped>\n",
              "    .dataframe tbody tr th:only-of-type {\n",
              "        vertical-align: middle;\n",
              "    }\n",
              "\n",
              "    .dataframe tbody tr th {\n",
              "        vertical-align: top;\n",
              "    }\n",
              "\n",
              "    .dataframe thead th {\n",
              "        text-align: right;\n",
              "    }\n",
              "</style>\n",
              "<table border=\"1\" class=\"dataframe\">\n",
              "  <thead>\n",
              "    <tr style=\"text-align: right;\">\n",
              "      <th></th>\n",
              "      <th>survival</th>\n",
              "      <th>still-alive</th>\n",
              "      <th>age_at_heart_attack</th>\n",
              "      <th>pericardal+effusion</th>\n",
              "      <th>fractional_shortening</th>\n",
              "      <th>epss</th>\n",
              "      <th>lvdd</th>\n",
              "      <th>wall_motion_score</th>\n",
              "      <th>wall_motion_index</th>\n",
              "      <th>mult</th>\n",
              "      <th>alive_at_1</th>\n",
              "    </tr>\n",
              "  </thead>\n",
              "  <tbody>\n",
              "    <tr>\n",
              "      <th>count</th>\n",
              "      <td>60.000000</td>\n",
              "      <td>60.000000</td>\n",
              "      <td>60.000000</td>\n",
              "      <td>60.000000</td>\n",
              "      <td>60.000000</td>\n",
              "      <td>60.000000</td>\n",
              "      <td>60.000000</td>\n",
              "      <td>60.000000</td>\n",
              "      <td>60.000000</td>\n",
              "      <td>60.000000</td>\n",
              "      <td>60.000000</td>\n",
              "    </tr>\n",
              "    <tr>\n",
              "      <th>mean</th>\n",
              "      <td>23.233333</td>\n",
              "      <td>0.350000</td>\n",
              "      <td>64.366667</td>\n",
              "      <td>0.183333</td>\n",
              "      <td>0.218067</td>\n",
              "      <td>12.410967</td>\n",
              "      <td>4.834033</td>\n",
              "      <td>15.320667</td>\n",
              "      <td>1.412950</td>\n",
              "      <td>0.787033</td>\n",
              "      <td>0.283333</td>\n",
              "    </tr>\n",
              "    <tr>\n",
              "      <th>std</th>\n",
              "      <td>18.151310</td>\n",
              "      <td>0.480995</td>\n",
              "      <td>8.731332</td>\n",
              "      <td>0.390205</td>\n",
              "      <td>0.107619</td>\n",
              "      <td>7.404936</td>\n",
              "      <td>0.780461</td>\n",
              "      <td>5.466676</td>\n",
              "      <td>0.449794</td>\n",
              "      <td>0.170538</td>\n",
              "      <td>0.454420</td>\n",
              "    </tr>\n",
              "    <tr>\n",
              "      <th>min</th>\n",
              "      <td>0.000000</td>\n",
              "      <td>0.000000</td>\n",
              "      <td>46.000000</td>\n",
              "      <td>0.000000</td>\n",
              "      <td>0.010000</td>\n",
              "      <td>0.000000</td>\n",
              "      <td>3.420000</td>\n",
              "      <td>5.500000</td>\n",
              "      <td>1.000000</td>\n",
              "      <td>0.357000</td>\n",
              "      <td>0.000000</td>\n",
              "    </tr>\n",
              "    <tr>\n",
              "      <th>25%</th>\n",
              "      <td>5.000000</td>\n",
              "      <td>0.000000</td>\n",
              "      <td>58.000000</td>\n",
              "      <td>0.000000</td>\n",
              "      <td>0.150000</td>\n",
              "      <td>7.900000</td>\n",
              "      <td>4.290000</td>\n",
              "      <td>12.457500</td>\n",
              "      <td>1.000000</td>\n",
              "      <td>0.713000</td>\n",
              "      <td>0.000000</td>\n",
              "    </tr>\n",
              "    <tr>\n",
              "      <th>50%</th>\n",
              "      <td>22.000000</td>\n",
              "      <td>0.000000</td>\n",
              "      <td>62.000000</td>\n",
              "      <td>0.000000</td>\n",
              "      <td>0.218500</td>\n",
              "      <td>11.450000</td>\n",
              "      <td>4.626500</td>\n",
              "      <td>14.000000</td>\n",
              "      <td>1.321500</td>\n",
              "      <td>0.786000</td>\n",
              "      <td>0.000000</td>\n",
              "    </tr>\n",
              "    <tr>\n",
              "      <th>75%</th>\n",
              "      <td>40.000000</td>\n",
              "      <td>1.000000</td>\n",
              "      <td>70.000000</td>\n",
              "      <td>0.000000</td>\n",
              "      <td>0.272500</td>\n",
              "      <td>16.025000</td>\n",
              "      <td>5.437500</td>\n",
              "      <td>17.250000</td>\n",
              "      <td>1.628750</td>\n",
              "      <td>0.928000</td>\n",
              "      <td>1.000000</td>\n",
              "    </tr>\n",
              "    <tr>\n",
              "      <th>max</th>\n",
              "      <td>57.000000</td>\n",
              "      <td>1.000000</td>\n",
              "      <td>86.000000</td>\n",
              "      <td>1.000000</td>\n",
              "      <td>0.610000</td>\n",
              "      <td>40.000000</td>\n",
              "      <td>6.730000</td>\n",
              "      <td>39.000000</td>\n",
              "      <td>3.000000</td>\n",
              "      <td>1.003000</td>\n",
              "      <td>1.000000</td>\n",
              "    </tr>\n",
              "  </tbody>\n",
              "</table>\n",
              "</div>"
            ],
            "text/plain": [
              "        survival  still-alive  ...       mult  alive_at_1\n",
              "count  60.000000    60.000000  ...  60.000000   60.000000\n",
              "mean   23.233333     0.350000  ...   0.787033    0.283333\n",
              "std    18.151310     0.480995  ...   0.170538    0.454420\n",
              "min     0.000000     0.000000  ...   0.357000    0.000000\n",
              "25%     5.000000     0.000000  ...   0.713000    0.000000\n",
              "50%    22.000000     0.000000  ...   0.786000    0.000000\n",
              "75%    40.000000     1.000000  ...   0.928000    1.000000\n",
              "max    57.000000     1.000000  ...   1.003000    1.000000\n",
              "\n",
              "[8 rows x 11 columns]"
            ]
          },
          "metadata": {
            "tags": []
          },
          "execution_count": 61
        }
      ]
    },
    {
      "cell_type": "code",
      "metadata": {
        "id": "s-71uRYRhcg1",
        "colab_type": "code",
        "colab": {}
      },
      "source": [
        ""
      ],
      "execution_count": 61,
      "outputs": []
    },
    {
      "cell_type": "code",
      "metadata": {
        "id": "Erc2gLcIhdGw",
        "colab_type": "code",
        "colab": {}
      },
      "source": [
        ""
      ],
      "execution_count": 61,
      "outputs": []
    },
    {
      "cell_type": "code",
      "metadata": {
        "id": "-u88xkqLhdDC",
        "colab_type": "code",
        "colab": {}
      },
      "source": [
        ""
      ],
      "execution_count": 61,
      "outputs": []
    },
    {
      "cell_type": "code",
      "metadata": {
        "id": "OlzHi9ZZPJOP",
        "colab_type": "code",
        "colab": {
          "base_uri": "https://localhost:8080/",
          "height": 34
        },
        "outputId": "2ec9c589-0ab8-43ed-d433-73eb02ca2550"
      },
      "source": [
        "df_ekg.shape"
      ],
      "execution_count": 62,
      "outputs": [
        {
          "output_type": "execute_result",
          "data": {
            "text/plain": [
              "(60, 12)"
            ]
          },
          "metadata": {
            "tags": []
          },
          "execution_count": 62
        }
      ]
    },
    {
      "cell_type": "markdown",
      "metadata": {
        "id": "G7rLytbrO38L",
        "colab_type": "text"
      },
      "source": [
        "## Part 2 - Exploring data, Testing hypotheses\n",
        "\n",
        "The only thing we really know about this data is that Alive-at-1 is the class label. Besides that, we have continuous features and categorical features.\n",
        "\n",
        "Explore the data: you can use whatever approach (tables, utility functions, visualizations) to get an impression of the distributions and relationships of the variables. In general, your goal is to understand how the features are different when grouped by the two class labels (`1` and `0`).\n",
        "\n",
        "For the continuous features, how are they different when split between the two class labels? Choose two features to run t-tests (again split by class label) - specifically, select one feature that is *extremely* different between the classes, and another feature that is notably less different (though perhaps still \"statistically significantly\" different). You may have to explore more than two features to do this.\n",
        "\n",
        "For the categorical features, explore by creating \"cross tabs\" (aka [contingency tables](https://en.wikipedia.org/wiki/Contingency_table)) between them and the class label, and apply the Chi-squared test to them. [pandas.crosstab](http://pandas.pydata.org/pandas-docs/stable/reference/api/pandas.crosstab.html) can create contingency tables, and [scipy.stats.chi2_contingency](https://docs.scipy.org/doc/scipy/reference/generated/scipy.stats.chi2_contingency.html) can calculate the Chi-squared statistic for them.\n",
        "\n",
        "There are also categorical features - as with the t-test, try to find one where the Chi-squared test returns an extreme result (rejecting the null that the data are independent), and one where it is less extreme.\n",
        "\n",
        "**NOTE** - \"less extreme\" just means smaller test statistic/larger p-value. Even the least extreme differences may be strongly statistically significant.\n",
        "\n",
        "Your *main* goal is the hypothesis tests, so don't spend too much time on the exploration/visualization piece. That is just a means to an end - use simple visualizations, such as boxplots or a scatter matrix (both built in to pandas), to get a feel for the overall distribution of the variables.\n",
        "\n",
        "This is challenging, so manage your time and aim for a baseline of at least running two t-tests and two Chi-squared tests before polishing. And don't forget to answer the questions in part 3, even if your results in this part aren't what you want them to be."
      ]
    },
    {
      "cell_type": "code",
      "metadata": {
        "id": "JzO6v3C2T-yI",
        "colab_type": "code",
        "colab": {
          "base_uri": "https://localhost:8080/",
          "height": 170
        },
        "outputId": "b663aee4-98fa-48a4-e0cc-874293b43382"
      },
      "source": [
        "df_ekg['survival'].describe()"
      ],
      "execution_count": 63,
      "outputs": [
        {
          "output_type": "execute_result",
          "data": {
            "text/plain": [
              "count    60.000000\n",
              "mean     23.233333\n",
              "std      18.151310\n",
              "min       0.000000\n",
              "25%       5.000000\n",
              "50%      22.000000\n",
              "75%      40.000000\n",
              "max      57.000000\n",
              "Name: survival, dtype: float64"
            ]
          },
          "metadata": {
            "tags": []
          },
          "execution_count": 63
        }
      ]
    },
    {
      "cell_type": "code",
      "metadata": {
        "id": "gkWwGHt5UYo5",
        "colab_type": "code",
        "colab": {
          "base_uri": "https://localhost:8080/",
          "height": 170
        },
        "outputId": "f802d52b-e11c-4adc-8927-d954ff4ff762"
      },
      "source": [
        "df_ekg['age_at_heart_attack'].describe()"
      ],
      "execution_count": 64,
      "outputs": [
        {
          "output_type": "execute_result",
          "data": {
            "text/plain": [
              "count    60.000000\n",
              "mean     64.366667\n",
              "std       8.731332\n",
              "min      46.000000\n",
              "25%      58.000000\n",
              "50%      62.000000\n",
              "75%      70.000000\n",
              "max      86.000000\n",
              "Name: age_at_heart_attack, dtype: float64"
            ]
          },
          "metadata": {
            "tags": []
          },
          "execution_count": 64
        }
      ]
    },
    {
      "cell_type": "code",
      "metadata": {
        "id": "wwF3JajtX1fo",
        "colab_type": "code",
        "colab": {}
      },
      "source": [
        ""
      ],
      "execution_count": 64,
      "outputs": []
    },
    {
      "cell_type": "code",
      "metadata": {
        "id": "_nqcgc0yzm68",
        "colab_type": "code",
        "colab": {}
      },
      "source": [
        "# TODO\n"
      ],
      "execution_count": 65,
      "outputs": []
    },
    {
      "cell_type": "code",
      "metadata": {
        "id": "MWj2ywWERzOA",
        "colab_type": "code",
        "colab": {
          "base_uri": "https://localhost:8080/",
          "height": 280
        },
        "outputId": "aa3d2572-21be-48d8-eb30-2a10b90db4a1"
      },
      "source": [
        "df_ekg.plot(kind='scatter', x=['age_at_heart_attack'], y=['survival']);"
      ],
      "execution_count": 66,
      "outputs": [
        {
          "output_type": "display_data",
          "data": {
            "image/png": "[encoded data removed]",
            "text/plain": [
              "<Figure size 432x288 with 1 Axes>"
            ]
          },
          "metadata": {
            "tags": [],
            "needs_background": "light"
          }
        }
      ]
    },
    {
      "cell_type": "code",
      "metadata": {
        "id": "MllBIptCTQqH",
        "colab_type": "code",
        "colab": {}
      },
      "source": [
        "# Hypothesis \n",
        "from scipy.stats import chisquare \n",
        "from scipy.stats import ttest_ind, ttest_1samp"
      ],
      "execution_count": 67,
      "outputs": []
    },
    {
      "cell_type": "markdown",
      "metadata": {
        "id": "SeItQFmalgXu",
        "colab_type": "text"
      },
      "source": [
        "# Null Hypothesis\n",
        "There is no difference between the average age of a person who survived after a year after their first heart attack and those who did not.\n",
        "\n",
        "# Alternative Hypothesis\n",
        "The average age at which one survives or dies within a year of having their first hear attack will differ"
      ]
    },
    {
      "cell_type": "code",
      "metadata": {
        "id": "125d8-NYrn8X",
        "colab_type": "code",
        "colab": {}
      },
      "source": [
        "# Separtating the survival and deaths a year after heart attack\n",
        "\n",
        "srate = df_ekg[df_ekg['alive_at_1']== 1] # Still alive after 1 year of heart attack\n",
        "drate = df_ekg[df_ekg['alive_at_1']== 0] # Not alive after 1 year of heart attack\n"
      ],
      "execution_count": 69,
      "outputs": []
    },
    {
      "cell_type": "code",
      "metadata": {
        "id": "ex0KhelNrpGh",
        "colab_type": "code",
        "colab": {
          "base_uri": "https://localhost:8080/",
          "height": 34
        },
        "outputId": "af78219d-521d-4369-ea20-3ecad52a5e9a"
      },
      "source": [
        "srate['age_at_heart_attack'].mean() # This represents the average age of people who were still alive after 1 year of having a heart attack"
      ],
      "execution_count": 70,
      "outputs": [
        {
          "output_type": "execute_result",
          "data": {
            "text/plain": [
              "69.6470588235294"
            ]
          },
          "metadata": {
            "tags": []
          },
          "execution_count": 70
        }
      ]
    },
    {
      "cell_type": "code",
      "metadata": {
        "id": "PCbg4KFgroot",
        "colab_type": "code",
        "colab": {
          "base_uri": "https://localhost:8080/",
          "height": 34
        },
        "outputId": "7141b774-d8c2-45b0-bc71-4032ecb19253"
      },
      "source": [
        "drate['age_at_heart_attack'].mean() # This represnts the average age of people who were dead within 1 year of having a heart attack "
      ],
      "execution_count": 71,
      "outputs": [
        {
          "output_type": "execute_result",
          "data": {
            "text/plain": [
              "62.27906976744186"
            ]
          },
          "metadata": {
            "tags": []
          },
          "execution_count": 71
        }
      ]
    },
    {
      "cell_type": "code",
      "metadata": {
        "id": "i_NM4GcDrn0u",
        "colab_type": "code",
        "colab": {
          "base_uri": "https://localhost:8080/",
          "height": 34
        },
        "outputId": "6fbfc2b9-7211-4f02-8407-a42001c65e14"
      },
      "source": [
        "ttest_ind(srate['age_at_heart_attack'], drate['age_at_heart_attack']) # T-Test whether or not there is a corralation between people age at the time of their heart attack and surviving after a year. "
      ],
      "execution_count": 72,
      "outputs": [
        {
          "output_type": "execute_result",
          "data": {
            "text/plain": [
              "Ttest_indResult(statistic=3.162106798584086, pvalue=0.0024916629911857623)"
            ]
          },
          "metadata": {
            "tags": []
          },
          "execution_count": 72
        }
      ]
    },
    {
      "cell_type": "code",
      "metadata": {
        "id": "im9nFRSNDqHX",
        "colab_type": "code",
        "colab": {
          "base_uri": "https://localhost:8080/",
          "height": 204
        },
        "outputId": "7931e385-7c85-4139-e972-dd1bf357654f"
      },
      "source": [
        "# create some binned categories \n",
        "cut_points = [45, 49, 59, 69, 79, 80]\n",
        "label_names = ['45-49', '50-59', '60-69', '70-79', '80+']\n",
        "df_ekg['age_svsd'] = pd.cut(df_ekg['age_at_heart_attack'], cut_points, labels=label_names)\n",
        "\n",
        "df_ekg.head()"
      ],
      "execution_count": 76,
      "outputs": [
        {
          "output_type": "execute_result",
          "data": {
            "text/html": [
              "<div>\n",
              "<style scoped>\n",
              "    .dataframe tbody tr th:only-of-type {\n",
              "        vertical-align: middle;\n",
              "    }\n",
              "\n",
              "    .dataframe tbody tr th {\n",
              "        vertical-align: top;\n",
              "    }\n",
              "\n",
              "    .dataframe thead th {\n",
              "        text-align: right;\n",
              "    }\n",
              "</style>\n",
              "<table border=\"1\" class=\"dataframe\">\n",
              "  <thead>\n",
              "    <tr style=\"text-align: right;\">\n",
              "      <th></th>\n",
              "      <th>survival</th>\n",
              "      <th>still-alive</th>\n",
              "      <th>age_at_heart_attack</th>\n",
              "      <th>pericardal+effusion</th>\n",
              "      <th>fractional_shortening</th>\n",
              "      <th>epss</th>\n",
              "      <th>lvdd</th>\n",
              "      <th>wall_motion_score</th>\n",
              "      <th>wall_motion_index</th>\n",
              "      <th>mult</th>\n",
              "      <th>name</th>\n",
              "      <th>alive_at_1</th>\n",
              "      <th>svsd</th>\n",
              "      <th>age_svsd</th>\n",
              "    </tr>\n",
              "  </thead>\n",
              "  <tbody>\n",
              "    <tr>\n",
              "      <th>0</th>\n",
              "      <td>19</td>\n",
              "      <td>0</td>\n",
              "      <td>72</td>\n",
              "      <td>0.0</td>\n",
              "      <td>0.380</td>\n",
              "      <td>6.000</td>\n",
              "      <td>4.100</td>\n",
              "      <td>14.0</td>\n",
              "      <td>1.70</td>\n",
              "      <td>0.588</td>\n",
              "      <td>name</td>\n",
              "      <td>0</td>\n",
              "      <td>NaN</td>\n",
              "      <td>70-79</td>\n",
              "    </tr>\n",
              "    <tr>\n",
              "      <th>1</th>\n",
              "      <td>16</td>\n",
              "      <td>0</td>\n",
              "      <td>55</td>\n",
              "      <td>0.0</td>\n",
              "      <td>0.260</td>\n",
              "      <td>4.000</td>\n",
              "      <td>3.420</td>\n",
              "      <td>14.0</td>\n",
              "      <td>1.00</td>\n",
              "      <td>1.000</td>\n",
              "      <td>name</td>\n",
              "      <td>0</td>\n",
              "      <td>NaN</td>\n",
              "      <td>50-59</td>\n",
              "    </tr>\n",
              "    <tr>\n",
              "      <th>2</th>\n",
              "      <td>57</td>\n",
              "      <td>0</td>\n",
              "      <td>60</td>\n",
              "      <td>0.0</td>\n",
              "      <td>0.253</td>\n",
              "      <td>12.062</td>\n",
              "      <td>4.603</td>\n",
              "      <td>16.0</td>\n",
              "      <td>1.45</td>\n",
              "      <td>0.788</td>\n",
              "      <td>name</td>\n",
              "      <td>0</td>\n",
              "      <td>NaN</td>\n",
              "      <td>60-69</td>\n",
              "    </tr>\n",
              "    <tr>\n",
              "      <th>3</th>\n",
              "      <td>19</td>\n",
              "      <td>1</td>\n",
              "      <td>57</td>\n",
              "      <td>0.0</td>\n",
              "      <td>0.160</td>\n",
              "      <td>22.000</td>\n",
              "      <td>5.750</td>\n",
              "      <td>18.0</td>\n",
              "      <td>2.25</td>\n",
              "      <td>0.571</td>\n",
              "      <td>name</td>\n",
              "      <td>0</td>\n",
              "      <td>NaN</td>\n",
              "      <td>50-59</td>\n",
              "    </tr>\n",
              "    <tr>\n",
              "      <th>4</th>\n",
              "      <td>26</td>\n",
              "      <td>0</td>\n",
              "      <td>68</td>\n",
              "      <td>0.0</td>\n",
              "      <td>0.260</td>\n",
              "      <td>5.000</td>\n",
              "      <td>4.310</td>\n",
              "      <td>12.0</td>\n",
              "      <td>1.00</td>\n",
              "      <td>0.857</td>\n",
              "      <td>name</td>\n",
              "      <td>0</td>\n",
              "      <td>NaN</td>\n",
              "      <td>60-69</td>\n",
              "    </tr>\n",
              "  </tbody>\n",
              "</table>\n",
              "</div>"
            ],
            "text/plain": [
              "   survival  still-alive  age_at_heart_attack  ...  alive_at_1  svsd  age_svsd\n",
              "0        19            0                   72  ...           0   NaN     70-79\n",
              "1        16            0                   55  ...           0   NaN     50-59\n",
              "2        57            0                   60  ...           0   NaN     60-69\n",
              "3        19            1                   57  ...           0   NaN     50-59\n",
              "4        26            0                   68  ...           0   NaN     60-69\n",
              "\n",
              "[5 rows x 14 columns]"
            ]
          },
          "metadata": {
            "tags": []
          },
          "execution_count": 76
        }
      ]
    },
    {
      "cell_type": "code",
      "metadata": {
        "id": "DtSmbjU4Dqpy",
        "colab_type": "code",
        "colab": {
          "base_uri": "https://localhost:8080/",
          "height": 119
        },
        "outputId": "d014535d-5a4b-4839-9e11-0ee41606ee6c"
      },
      "source": [
        "df_ekg['age_svsd'].value_counts()"
      ],
      "execution_count": 77,
      "outputs": [
        {
          "output_type": "execute_result",
          "data": {
            "text/plain": [
              "60-69    22\n",
              "50-59    19\n",
              "70-79    16\n",
              "45-49     1\n",
              "80+       0\n",
              "Name: age_svsd, dtype: int64"
            ]
          },
          "metadata": {
            "tags": []
          },
          "execution_count": 77
        }
      ]
    },
    {
      "cell_type": "code",
      "metadata": {
        "id": "-aLEamu9Dp0B",
        "colab_type": "code",
        "colab": {
          "base_uri": "https://localhost:8080/",
          "height": 34
        },
        "outputId": "b1f3bf43-0f11-4905-b444-63a7dca10ee1"
      },
      "source": [
        "# FREQUENTIST APPROACH\n",
        "# calculate a 95% confidence interval on either side of this.\n",
        "\n",
        "conf_freq=stats.t.interval(0.95,                    # alpha (ie, confidence level)\n",
        "                 len(df_ekg['alive_at_1']),                 # length of sample\n",
        "                 loc = np.mean(df_ekg['alive_at_1']),      # sample mean\n",
        "                 scale = stats.sem(df_ekg['alive_at_1']) # std error of the mean\n",
        "                 )\n",
        "conf_freq"
      ],
      "execution_count": 78,
      "outputs": [
        {
          "output_type": "execute_result",
          "data": {
            "text/plain": [
              "(0.16598522471985483, 0.4006814419468118)"
            ]
          },
          "metadata": {
            "tags": []
          },
          "execution_count": 78
        }
      ]
    },
    {
      "cell_type": "code",
      "metadata": {
        "id": "W-tOW7osyrxo",
        "colab_type": "code",
        "colab": {
          "base_uri": "https://localhost:8080/",
          "height": 34
        },
        "outputId": "6f067da1-a2a6-4393-ee9f-3c1016e98962"
      },
      "source": [
        "# BAYESIAN APPROACH\n",
        "conf_bayes=stats.bayes_mvs(df_ekg['alive_at_1'], alpha=.95)[0][1] # alpha is the confidence level for this equation\n",
        "conf_bayes"
      ],
      "execution_count": 79,
      "outputs": [
        {
          "output_type": "execute_result",
          "data": {
            "text/plain": [
              "(0.16594430237558652, 0.4007223642910801)"
            ]
          },
          "metadata": {
            "tags": []
          },
          "execution_count": 79
        }
      ]
    },
    {
      "cell_type": "code",
      "metadata": {
        "id": "wceZJkXUyra7",
        "colab_type": "code",
        "colab": {
          "base_uri": "https://localhost:8080/",
          "height": 303
        },
        "outputId": "8aa1d185-50c3-4840-d031-3ec6c5b73edf"
      },
      "source": [
        "# plot on graph with kernel density estimate\n",
        "import seaborn as sns\n",
        "\n",
        "sns.kdeplot(df_ekg['alive_at_1'])\n",
        "# plt.xlim(.3703, .3705)\n",
        "plt.axvline(x=conf_freq[0], color='red')\n",
        "plt.axvline(x=conf_freq[1], color='red')\n",
        "plt.axvline(x=conf_bayes[0], color='green')\n",
        "plt.axvline(x=conf_bayes[1], color='green')\n",
        "plt.axvline(x=np.mean(df_ekg['alive_at_1']), color='k');"
      ],
      "execution_count": 81,
      "outputs": [
        {
          "output_type": "stream",
          "text": [
            "/usr/local/lib/python3.6/dist-packages/statsmodels/tools/_testing.py:19: FutureWarning: pandas.util.testing is deprecated. Use the functions in the public API at pandas.testing instead.\n",
            "  import pandas.util.testing as tm\n"
          ],
          "name": "stderr"
        },
        {
          "output_type": "display_data",
          "data": {
            "image/png": "[encoded data removed]",
            "text/plain": [
              "<Figure size 432x288 with 1 Axes>"
            ]
          },
          "metadata": {
            "tags": [],
            "needs_background": "light"
          }
        }
      ]
    },
    {
      "cell_type": "code",
      "metadata": {
        "id": "IeId0DV1zgsz",
        "colab_type": "code",
        "colab": {}
      },
      "source": [
        ""
      ],
      "execution_count": null,
      "outputs": []
    },
    {
      "cell_type": "code",
      "metadata": {
        "id": "ABtElYsIziHm",
        "colab_type": "code",
        "colab": {}
      },
      "source": [
        ""
      ],
      "execution_count": null,
      "outputs": []
    },
    {
      "cell_type": "code",
      "metadata": {
        "id": "U1ZKSCgrzhxN",
        "colab_type": "code",
        "colab": {}
      },
      "source": [
        ""
      ],
      "execution_count": null,
      "outputs": []
    },
    {
      "cell_type": "code",
      "metadata": {
        "id": "tkv2r_7hzgdW",
        "colab_type": "code",
        "colab": {}
      },
      "source": [
        ""
      ],
      "execution_count": null,
      "outputs": []
    },
    {
      "cell_type": "markdown",
      "metadata": {
        "id": "ZM8JckA2bgnp",
        "colab_type": "text"
      },
      "source": [
        "## Part 3 - Analysis and Interpretation\n",
        "\n",
        "Now that you've looked at the data, answer the following questions:\n",
        "\n",
        "- Interpret and explain the two t-tests you ran - what do they tell you about the relationships between the continuous features you selected and the class labels?\n",
        "- Interpret and explain the two Chi-squared tests you ran - what do they tell you about the relationships between the categorical features you selected and the class labels?\n",
        "- What was the most challenging part of this sprint challenge?\n",
        "\n",
        "Answer with text, but feel free to intersperse example code/results or refer to it from earlier."
      ]
    },
    {
      "cell_type": "markdown",
      "metadata": {
        "id": "LIozLDNG2Uhu",
        "colab_type": "text"
      },
      "source": [
        "Because of a pvalue of 0.0024 I reject the null hypothesis and instead accept the alternate hypothesis that , from this sample, there is a significant difference between the age of those who survived for a year after their heart attack and those who did not. \n",
        "\n"
      ]
    },
    {
      "cell_type": "markdown",
      "metadata": {
        "id": "pvs3_-sNWQv0",
        "colab_type": "text"
      },
      "source": [
        "## Part 4 - Bayesian vs Frequentist Statistics\n",
        "\n",
        "Using a minimum of 2-3 sentences, give an explanation of Bayesian and Frequentist statistics, and then compare and contrast these two approaches to statistical inference.\n",
        "\n"
      ]
    },
    {
      "cell_type": "markdown",
      "metadata": {
        "id": "h1oK1UaDWrI-",
        "colab_type": "text"
      },
      "source": [
        "In the Bayesian statistics, probability measures a 'degree of belief', and it links those degrees of belief in assersion of the data before and after accounting for evidence. \n",
        "> **Example:** \n",
        ">  - P(A), the prior, is the initial degree of belief in A\n",
        ">  - P(A|B), the posterior, is the degree of belief after incorporating news that B is true\n",
        ">  - The quotient P(B|A)/P(B) represents the support B provides for A\n",
        "\n",
        "Frequentist Statistics measures a portion of outcomes. \n",
        "> **Example:** \n",
        "> Suppose an experiment is performed many times\n",
        "> - P(A) is the proportion of outcomes with property A (the prior) and P(B) is the proportion with property B. \n",
        "> - P(B|A) is the proportion of coucomes with propert B out ot the outcomes with property A\n",
        "> - P(A|B) is the property proportion of those with A out of those with B (the posterior)"
      ]
    },
    {
      "cell_type": "markdown",
      "metadata": {
        "id": "XOequK5xpVz7",
        "colab_type": "text"
      },
      "source": [
        "# Stretch Goals: \n",
        "Do these to get a 3. These are not required in order to pass the Sprint Challenge.\n",
        "\n",
        "## Part 1: \n",
        "\n",
        "Make sure that all of your dataframe columns have the appropriate data types. *Hint:* If a column has the datatype of \"object\" even though it's made up of float or integer values, you can coerce it to act as a numeric column by using the `pd.to_numeric()` function. In order to get a 3 on this section make sure that your data exploration is particularly well commented, easy to follow, and thorough.\n",
        "\n",
        "## Part 2:\n",
        "\n",
        "Write functions that can calculate t-tests and chi^2 tests on all of the appropriate column combinations from the dataset. (Remember that certain tests require certain variable types.)\n",
        "\n",
        "## Part 3: \n",
        "\n",
        "Calculate and report confidence intervals on your most important mean estimates (choose at least two). Make some kind of a graphic or visualization to help us see visually how precise these estimates are.\n",
        "\n",
        "## Part 4:\n",
        "\n",
        "Give an extra awesome explanation of Bayesian vs Frequentist Statistics. Maybe use code or visualizations, or any other means necessary to show an above average grasp of these high level concepts."
      ]
    },
    {
      "cell_type": "code",
      "metadata": {
        "id": "NT37grnxqa05",
        "colab_type": "code",
        "colab": {}
      },
      "source": [
        "# You can work the stretch goals down here or back up in their regular sections\n",
        "# just make sure that they are labeled so that we can easily differentiate\n",
        "# your main work from the stretch goals."
      ],
      "execution_count": null,
      "outputs": []
    }
  ]
}